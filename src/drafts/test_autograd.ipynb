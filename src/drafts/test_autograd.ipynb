{
 "cells": [
  {
   "cell_type": "code",
   "execution_count": 1,
   "metadata": {},
   "outputs": [],
   "source": [
    "import torch"
   ]
  },
  {
   "cell_type": "markdown",
   "metadata": {},
   "source": [
    "### Quick Review\n",
    "\n",
    "\n",
    "Let $f: \\mathbb{R}^n \\rightarrow \\mathbb{R}$. Then, the derivative of $f(\\boldsymbol{x})$ with respect to the vector $\\boldsymbol{x}$ can be described by the derivative with respect to each of the scalar elements $x_i$ in $\\boldsymbol{x}$, which is given by $\\frac{\\partial f(\\boldsymbol{x})}{\\partial x_i}$ for each $i=1,...,n$. \n",
    "\n",
    "We can concatenate the partial derivatives of the multivariate function $f(\\boldsymbol{x})$ with respect to each of the elements $x_i$ to obtain a vector that is called the gradient. The $\\textbf{gradient}$ is represented as:\n",
    "\n",
    "$$\n",
    "\\nabla_{\\boldsymbol{x}}f(\\boldsymbol{x}) = \\Big[ \\frac{\\partial f(\\boldsymbol{x})}{\\partial x_1}, \\frac{\\partial f(\\boldsymbol{x})}{\\partial x_2}, ..., \\frac{\\partial f(\\boldsymbol{x})}{\\partial x_d} \\Big]\n",
    "$$\n",
    "\n",
    "Some useful rules are:\n",
    "\n",
    "> 1) For all $A \\in \\mathbb{R}^{m \\times n}$, if $f(\\boldsymbol{x})=A\\boldsymbol{x} \\implies \\nabla_{\\boldsymbol{x}}f(\\boldsymbol{x})=A^{'}$ \n",
    "> 2) For all $A \\in \\mathbb{R}^{m \\times n}$, if $f(\\boldsymbol{x})=\\boldsymbol{x}^{'}A \\implies \\nabla_{\\boldsymbol{x}}f(\\boldsymbol{x})=A$ \n",
    "> 3) For all $A \\in \\mathbb{R}^{m \\times m}$, if $f(\\boldsymbol{x})=\\boldsymbol{x}^{'}A\\boldsymbol{x} \\implies \\nabla_{\\boldsymbol{x}}f(\\boldsymbol{x})=(A + A^{'})\\boldsymbol{x}$ \n",
    "> 4)  If $f(\\boldsymbol{x})=\\boldsymbol{x}^{'}\\boldsymbol{x} \\implies \\nabla_{\\boldsymbol{x}}f(\\boldsymbol{x})=2\\times\\boldsymbol{x}$ \n",
    "\n",
    "We can generalize this notion to functions with image on $\\mathbb{R}^{m}$. Let $f: \\mathbb{R}^{n} \\rightarrow \\mathbb{R}^{m}$. Then, we define the the $\\textbf{jacobian}$ of $f(\\boldsymbol{x})$ with respect to $\\boldsymbol{x}$, denoted $\\boldsymbol{J}$, as:\n",
    "\n",
    "$$\n",
    "\\boldsymbol{J} = \\Big[ \\frac{\\partial \\boldsymbol{f}(\\boldsymbol{x})}{\\partial x_1}, \\frac{\\partial \\boldsymbol{f}(\\boldsymbol{x})}{\\partial x_2}, ..., \\frac{\\partial \\boldsymbol{f}(\\boldsymbol{x})}{\\partial x_d} \\Big] = \\begin{bmatrix}\n",
    "    \\nabla_{\\boldsymbol{x}} f_1^T \\\\\n",
    "    \\nabla_{\\boldsymbol{x}} f_2^T \\\\\n",
    "    \\vdots \\\\\n",
    "    \\nabla_{\\boldsymbol{x}} f_m^T\n",
    "\\end{bmatrix} = \\begin{bmatrix}\n",
    "    \\frac{\\partial f_1}{\\partial x_1} & \\frac{\\partial f_1}{\\partial x_2} & \\cdots & \\frac{\\partial f_1}{\\partial x_n} \\\\\n",
    "    \\vdots & \\vdots & \\ddots & \\vdots \\\\\n",
    "    \\frac{\\partial f_m}{\\partial x_1} & \\frac{\\partial f_m}{\\partial x_2} & \\cdots & \\frac{\\partial f_m}{\\partial x_n}\n",
    "\\end{bmatrix}\n",
    "$$"
   ]
  },
  {
   "cell_type": "code",
   "execution_count": 2,
   "metadata": {},
   "outputs": [
    {
     "data": {
      "text/plain": [
       "tensor([0., 1., 2., 3.], requires_grad=True)"
      ]
     },
     "execution_count": 2,
     "metadata": {},
     "output_type": "execute_result"
    }
   ],
   "source": [
    "x = torch.arange(4.0, requires_grad=True)\n",
    "x"
   ]
  },
  {
   "cell_type": "markdown",
   "metadata": {},
   "source": [
    "### 1.\n",
    "\n",
    "Let $\\boldsymbol{x} = [0, 1, 2, 3]$ and $f(\\boldsymbol{x}) = 2 \\times \\boldsymbol{x}^{'}\\boldsymbol{x}$. Then\n",
    "\n",
    "$$\n",
    "\\frac{\\partial f(\\boldsymbol{x})}{\\partial \\boldsymbol{x}} = 4 \\times \\boldsymbol{x}\n",
    "$$"
   ]
  },
  {
   "cell_type": "code",
   "execution_count": 3,
   "metadata": {},
   "outputs": [
    {
     "data": {
      "text/plain": [
       "tensor(28., grad_fn=<MulBackward0>)"
      ]
     },
     "execution_count": 3,
     "metadata": {},
     "output_type": "execute_result"
    }
   ],
   "source": [
    "y = 2 * torch.dot(x, x)\n",
    "y"
   ]
  },
  {
   "cell_type": "code",
   "execution_count": 4,
   "metadata": {},
   "outputs": [
    {
     "data": {
      "text/plain": [
       "tensor([ 0.,  4.,  8., 12.])"
      ]
     },
     "execution_count": 4,
     "metadata": {},
     "output_type": "execute_result"
    }
   ],
   "source": [
    "y.backward()\n",
    "x.grad"
   ]
  },
  {
   "cell_type": "code",
   "execution_count": 5,
   "metadata": {},
   "outputs": [
    {
     "data": {
      "text/plain": [
       "tensor([True, True, True, True])"
      ]
     },
     "execution_count": 5,
     "metadata": {},
     "output_type": "execute_result"
    }
   ],
   "source": [
    "4 * x == x.grad"
   ]
  },
  {
   "cell_type": "markdown",
   "metadata": {},
   "source": [
    "### 2)\n",
    "\n",
    "Again, let $\\boldsymbol{x} = [0, 1, 2, 3]$ and $f(\\boldsymbol{x}) = \\boldsymbol{1}^{'}\\boldsymbol{x}$, that is, $f(\\boldsymbol{x})$ is equal to the sum of the elements of $\\boldsymbol{x}$. Then\n",
    "\n",
    "$$\n",
    "\\frac{\\partial f(\\boldsymbol{x})}{\\partial \\boldsymbol{x}} = \\boldsymbol{1}\n",
    "$$\n",
    "\n",
    "where $\\boldsymbol{1} = [1, 1, 1, 1]$."
   ]
  },
  {
   "cell_type": "code",
   "execution_count": 6,
   "metadata": {},
   "outputs": [
    {
     "data": {
      "text/plain": [
       "tensor(6., grad_fn=<SumBackward0>)"
      ]
     },
     "execution_count": 6,
     "metadata": {},
     "output_type": "execute_result"
    }
   ],
   "source": [
    "x.grad.zero_()\n",
    "y = x.sum()\n",
    "y"
   ]
  },
  {
   "cell_type": "code",
   "execution_count": 7,
   "metadata": {},
   "outputs": [
    {
     "data": {
      "text/plain": [
       "tensor([1., 1., 1., 1.])"
      ]
     },
     "execution_count": 7,
     "metadata": {},
     "output_type": "execute_result"
    }
   ],
   "source": [
    "y.backward()\n",
    "x.grad"
   ]
  },
  {
   "cell_type": "code",
   "execution_count": 8,
   "metadata": {},
   "outputs": [
    {
     "data": {
      "text/plain": [
       "tensor([True, True, True, True])"
      ]
     },
     "execution_count": 8,
     "metadata": {},
     "output_type": "execute_result"
    }
   ],
   "source": [
    "torch.ones(x.shape[0]) == x.grad"
   ]
  }
 ],
 "metadata": {
  "kernelspec": {
   "display_name": "rpowbe",
   "language": "python",
   "name": "python3"
  },
  "language_info": {
   "codemirror_mode": {
    "name": "ipython",
    "version": 3
   },
   "file_extension": ".py",
   "mimetype": "text/x-python",
   "name": "python",
   "nbconvert_exporter": "python",
   "pygments_lexer": "ipython3",
   "version": "3.10.0"
  }
 },
 "nbformat": 4,
 "nbformat_minor": 2
}
